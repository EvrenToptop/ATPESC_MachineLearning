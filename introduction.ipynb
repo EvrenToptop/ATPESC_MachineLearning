{
 "cells": [
  {
   "cell_type": "markdown",
   "metadata": {},
   "source": [
    "# Introductory Material\n",
    "\n",
    "Run this introductory IPython Notebook into your [Colaborotory](https://colab.research.google.com).\n",
    "\n",
    "This is a 'Markdown' or 'Text' cell where notes can be made to help you remember what you were doing."
   ]
  },
  {
   "cell_type": "code",
   "execution_count": 3,
   "metadata": {},
   "outputs": [
    {
     "name": "stdout",
     "output_type": "stream",
     "text": [
      "tensorflow version: 1.13.1\n"
     ]
    }
   ],
   "source": [
    "# This is a code cell where you can run Python code on the local machine\n",
    "import tensorflow as tf\n",
    "print(f'tensorflow version: {tf.__version__}')\n",
    "# when you're done typing you hit <shift>+<enter> and the cell is executed in the Python Interpreter"
   ]
  },
  {
   "cell_type": "markdown",
   "metadata": {},
   "source": [
    "You can also run bash shell commands using `!<command>`"
   ]
  },
  {
   "cell_type": "code",
   "execution_count": 4,
   "metadata": {},
   "outputs": [
    {
     "name": "stdout",
     "output_type": "stream",
     "text": [
      "Hello World\r\n"
     ]
    }
   ],
   "source": [
    "!echo Hello World"
   ]
  },
  {
   "cell_type": "code",
   "execution_count": 6,
   "metadata": {},
   "outputs": [
    {
     "name": "stdout",
     "output_type": "stream",
     "text": [
      "LICENSE                 \u001b[34msess1_supervised\u001b[m\u001b[m        \u001b[34msess5_ensemble\u001b[m\u001b[m\r\n",
      "README.md               \u001b[34msess2_timeseries\u001b[m\u001b[m        \u001b[34msess6_reinforcement\u001b[m\u001b[m\r\n",
      "\u001b[34mREADME_imgs\u001b[m\u001b[m             \u001b[34msess3_unsupervised\u001b[m\u001b[m\r\n",
      "introduction.ipynb      \u001b[34msess4_generative_models\u001b[m\u001b[m\r\n"
     ]
    }
   ],
   "source": [
    "!ls"
   ]
  },
  {
   "cell_type": "markdown",
   "metadata": {},
   "source": [
    "Let's checkout the AI4ScienceTutorial to our local Colaboratory Virtual Machine:"
   ]
  },
  {
   "cell_type": "code",
   "execution_count": 11,
   "metadata": {},
   "outputs": [
    {
     "name": "stdout",
     "output_type": "stream",
     "text": [
      "Cloning into 'repo'...\n",
      "remote: Enumerating objects: 29, done.\u001b[K\n",
      "remote: Counting objects: 100% (29/29), done.\u001b[K\n",
      "remote: Compressing objects: 100% (23/23), done.\u001b[K\n",
      "remote: Total 29 (delta 8), reused 20 (delta 4), pack-reused 0\u001b[K\n",
      "Unpacking objects: 100% (29/29), done.\n"
     ]
    }
   ],
   "source": [
    "!git clone https://github.com/argonne-lcf/AI4ScienceTutorial.git repo"
   ]
  },
  {
   "cell_type": "code",
   "execution_count": 13,
   "metadata": {},
   "outputs": [
    {
     "name": "stdout",
     "output_type": "stream",
     "text": [
      "LICENSE                 \u001b[34msess1_supervised\u001b[m\u001b[m        \u001b[34msess5_ensemble\u001b[m\u001b[m\r\n",
      "README.md               \u001b[34msess2_timeseries\u001b[m\u001b[m        \u001b[34msess6_reinforcement\u001b[m\u001b[m\r\n",
      "\u001b[34mREADME_imgs\u001b[m\u001b[m             \u001b[34msess3_unsupervised\u001b[m\u001b[m\r\n",
      "introduction.ipynb      \u001b[34msess4_generative_models\u001b[m\u001b[m\r\n"
     ]
    }
   ],
   "source": [
    "!ls repo"
   ]
  },
  {
   "cell_type": "markdown",
   "metadata": {},
   "source": [
    "# Notebook Runtimes\n",
    "While running a notebook, you must consider that the Python Interpreter is running in the background and will retain all previous executed codes. Mean variables persist until the runtime is killed or reset. This can be done from the 'Kernel' or 'Runtime' menu above. \n",
    "\n",
    "Let's see how this works."
   ]
  },
  {
   "cell_type": "code",
   "execution_count": 14,
   "metadata": {},
   "outputs": [
    {
     "name": "stdout",
     "output_type": "stream",
     "text": [
      "42\n"
     ]
    }
   ],
   "source": [
    "x = 42\n",
    "print(x)"
   ]
  },
  {
   "cell_type": "markdown",
   "metadata": {},
   "source": [
    "Now reset/restart the runtime via the menu and run the following:"
   ]
  },
  {
   "cell_type": "code",
   "execution_count": 1,
   "metadata": {},
   "outputs": [
    {
     "ename": "NameError",
     "evalue": "name 'x' is not defined",
     "output_type": "error",
     "traceback": [
      "\u001b[0;31m---------------------------------------------------------------------------\u001b[0m",
      "\u001b[0;31mNameError\u001b[0m                                 Traceback (most recent call last)",
      "\u001b[0;32m<ipython-input-1-fc17d851ef81>\u001b[0m in \u001b[0;36m<module>\u001b[0;34m\u001b[0m\n\u001b[0;32m----> 1\u001b[0;31m \u001b[0mprint\u001b[0m\u001b[0;34m(\u001b[0m\u001b[0mx\u001b[0m\u001b[0;34m)\u001b[0m\u001b[0;34m\u001b[0m\u001b[0m\n\u001b[0m",
      "\u001b[0;31mNameError\u001b[0m: name 'x' is not defined"
     ]
    }
   ],
   "source": [
    "# This will cause 'NameError' exception since the variable does not exist.\n",
    "print(x)"
   ]
  },
  {
   "cell_type": "markdown",
   "metadata": {},
   "source": [
    "One Colaboratory there is another level of restart/reset called 'Reset all runtimes...' which not only restarts the Python interpreter, but reboots your VM causing all local files to be lost. For example, run the following command:"
   ]
  },
  {
   "cell_type": "code",
   "execution_count": 3,
   "metadata": {},
   "outputs": [
    {
     "name": "stdout",
     "output_type": "stream",
     "text": [
      "LICENSE                 \u001b[34msess1_supervised\u001b[m\u001b[m        \u001b[34msess5_ensemble\u001b[m\u001b[m\r\n",
      "README.md               \u001b[34msess2_timeseries\u001b[m\u001b[m        \u001b[34msess6_reinforcement\u001b[m\u001b[m\r\n",
      "\u001b[34mREADME_imgs\u001b[m\u001b[m             \u001b[34msess3_unsupervised\u001b[m\u001b[m\r\n",
      "introduction.ipynb      \u001b[34msess4_generative_models\u001b[m\u001b[m\r\n"
     ]
    }
   ],
   "source": [
    "# list the repo we cloned from git\n",
    "!ls repo"
   ]
  },
  {
   "cell_type": "markdown",
   "metadata": {},
   "source": [
    "Now run 'Reset all runtimes...' from the menu and then run this command"
   ]
  },
  {
   "cell_type": "code",
   "execution_count": 1,
   "metadata": {},
   "outputs": [
    {
     "name": "stdout",
     "output_type": "stream",
     "text": [
      "ls: repo: No such file or directory\r\n"
     ]
    }
   ],
   "source": [
    "# this will throw an error since there is no longer a file\n",
    "!ls repo"
   ]
  },
  {
   "cell_type": "code",
   "execution_count": null,
   "metadata": {},
   "outputs": [],
   "source": [
    "# recheck out the repo, we want to use this later in our jobs\n",
    "!git clone https://github.com/argonne-lcf/AI4ScienceTutorial.git repo"
   ]
  }
 ],
 "metadata": {
  "kernelspec": {
   "display_name": "Python 3",
   "language": "python",
   "name": "python3"
  },
  "language_info": {
   "codemirror_mode": {
    "name": "ipython",
    "version": 3
   },
   "file_extension": ".py",
   "mimetype": "text/x-python",
   "name": "python",
   "nbconvert_exporter": "python",
   "pygments_lexer": "ipython3",
   "version": "3.6.5"
  }
 },
 "nbformat": 4,
 "nbformat_minor": 2
}
