{
 "cells": [
  {
   "cell_type": "markdown",
   "metadata": {
    "colab_type": "text",
    "id": "DHt5yPukpGkH"
   },
   "source": [
    "### Generative Models\n",
    "\n",
    "A generative model could be loosely defined as any model that takes an abstract, low dimensional input and outputs a high dimensional image as a result.  In this definition, the autoencoders we developed in the first tutorials count as generative networks.  But if you feed in random data, you are unlikely to get good output!\n",
    "\n",
    "Generative Adversarial Networks create generative models through a different technique.  These networks take points from a random input distribution - say, N random values between 0 and 1.  They feed these values forward through the network, and the output of the network is an image that is - ideally - indistinguishable from the real images."
   ]
  },
  {
   "cell_type": "markdown",
   "metadata": {
    "colab_type": "text",
    "id": "sYKDyASEpF9z"
   },
   "source": [
    "## Training a Generative Adversarial Network\n",
    "\n",
    "You can build a generative model using an adversarial training technique.  This has been around for some time now, but the key components of the training process are this:\n",
    " - Two networks are created.  \n",
    "     - One is a __generator__, which is tasked with taking random input (Let's say we give it a tensor of shape 50, with each value in the range (0, 1) ) and outputing an image (shape 28x28 as usual) which is indistinguishable from the handwritten digits in the mnist dataset.\n",
    "     - The second network is a __discriminator__ or classifier which takes as input images and has to decide on a case-by-case basis which images are from the real dataset, and which images are from the __generator__.\n",
    " - During training, first the generator is run and it produces a set of output images.\n",
    " - Next, a set of *real* images is pulled from the dataset and augments the generated images.  Each image is given a label of 1 for fake, 0 for real.\n",
    " - The __discriminator__ runs and classifies the images as best it can, either real or fake.\n",
    " - The gradients of the __discriminator__ are updated easily, as it is just a classification problem.\n",
    " - The gradients of the __generator__ are then updated based on the success or failure of the discriminator.  In this way, the __generator__ is trained directly to trick the discriminator into believing the wrong images are real.\n",
    " \n",
    "At the end of the training session, the discriminator network can usually be discarded while the generator remains as an interesting network.  You can use it moving forward to generate new fake data."
   ]
  },
  {
   "cell_type": "code",
   "execution_count": 1,
   "metadata": {
    "colab": {},
    "colab_type": "code",
    "id": "Jd17pbg9o0iN"
   },
   "outputs": [],
   "source": [
    "import tensorflow as tf\n",
    "import numpy\n",
    "tf.enable_eager_execution()\n",
    "\n",
    "from matplotlib import pyplot as plt\n",
    "from IPython.display import display, clear_output"
   ]
  },
  {
   "cell_type": "markdown",
   "metadata": {
    "colab_type": "text",
    "id": "iGQ1rN0TpVcF"
   },
   "source": [
    "The network designs for a GAN need not be anything special. We will use very similar networks as before in our convolutional auto encoder, but the key difference will be how the networks are trained.  Let's start with our discriminator:"
   ]
  },
  {
   "cell_type": "code",
   "execution_count": 2,
   "metadata": {
    "colab": {},
    "colab_type": "code",
    "id": "97ECb7KopHZY"
   },
   "outputs": [],
   "source": [
    "class Discriminator(tf.keras.models.Model):\n",
    "    '''\n",
    "    Simple classifier for mnist, but only 1 or 2 outputs:\n",
    "        \n",
    "    With 1 output, we will use a sigmoid cross entropy.\n",
    "    \n",
    "    '''\n",
    "    \n",
    "    def __init__(self, activation=tf.nn.tanh):\n",
    "        tf.keras.models.Model.__init__(self)\n",
    "\n",
    "        # Apply a 5x5 kernel to the image:\n",
    "        self.discriminator_layer_1 = tf.keras.layers.Convolution2D(\n",
    "            kernel_size = [5, 5], \n",
    "            filters     = 24,\n",
    "            padding     = \"same\",\n",
    "            activation  = activation,\n",
    "        )\n",
    "        \n",
    "        self.dropout_1 = tf.keras.layers.Dropout(0.4)\n",
    "        \n",
    "        self.pool_1 = tf.keras.layers.MaxPool2D()\n",
    "        \n",
    "        self.discriminator_layer_2 = tf.keras.layers.Convolution2D(\n",
    "            kernel_size = [5, 5], \n",
    "            filters     = 64, \n",
    "            padding     = \"same\",\n",
    "            activation  = activation,\n",
    "        )\n",
    "\n",
    "        self.dropout_2 = tf.keras.layers.Dropout(0.4)\n",
    "        \n",
    "        self.pool_2 = tf.keras.layers.MaxPool2D()\n",
    "\n",
    "        self.discriminator_layer_3 = tf.keras.layers.Convolution2D(\n",
    "            kernel_size = [5, 5],\n",
    "            filters     = 128,\n",
    "            padding     = \"same\",\n",
    "            activation  = activation,\n",
    "        )\n",
    "        \n",
    "        self.dropout_3 = tf.keras.layers.Dropout(0.4)\n",
    "\n",
    "        \n",
    "        self.pool_3 = tf.keras.layers.MaxPool2D()\n",
    "\n",
    "        self.discriminator_layer_final = tf.keras.layers.Dense(\n",
    "            units = 1,\n",
    "            activation = None,\n",
    "            )\n",
    "        \n",
    "        \n",
    "        \n",
    "\n",
    "\n",
    "    def call(self, inputs):\n",
    "        \n",
    "        batch_size = inputs.shape[0]\n",
    "        x = inputs\n",
    "        # Make sure the input is the right shape:\n",
    "        x = tf.reshape(x, [batch_size, 28, 28, 1])\n",
    "            \n",
    "        x = self.discriminator_layer_1(x)\n",
    "        x = self.pool_1(x)\n",
    "        x = self.dropout_1(x)\n",
    "        x = self.discriminator_layer_2(x)\n",
    "        x = self.pool_2(x)\n",
    "        x = self.dropout_2(x)\n",
    "        x = self.discriminator_layer_3(x)\n",
    "        x = self.pool_3(x)\n",
    "        x = self.dropout_3(x)\n",
    "        x = tf.keras.layers.Flatten()(x)\n",
    "        x = self.discriminator_layer_final(x)\n",
    "\n",
    "        return x\n",
    "\n"
   ]
  },
  {
   "cell_type": "markdown",
   "metadata": {
    "colab_type": "text",
    "id": "FwHWTw1fpZ0A"
   },
   "source": [
    "And here is our generator model, which will expect as input some random-number fixed length tensor."
   ]
  },
  {
   "cell_type": "code",
   "execution_count": 3,
   "metadata": {
    "colab": {},
    "colab_type": "code",
    "id": "jwrpchlppdYB"
   },
   "outputs": [],
   "source": [
    "class Generator(tf.keras.models.Model):\n",
    "    \n",
    "    def __init__(self, activation=tf.nn.tanh):\n",
    "        tf.keras.models.Model.__init__(self)\n",
    "\n",
    "        # The first step is to take the random image and use a dense layer to \n",
    "        #make it the right shape\n",
    "        \n",
    "        self.dense = tf.keras.layers.Dense(\n",
    "            units = 7 * 7 * 64\n",
    "        )\n",
    "        \n",
    "        # This will get reshaped into a 7x7 image with 64 filters.\n",
    "        \n",
    "        # We need to upsample twice to get to a full 28x28 resolution image\n",
    "        \n",
    "        \n",
    "        self.batch_norm_1 = tf.keras.layers.BatchNormalization()\n",
    "        \n",
    "        \n",
    "        self.generator_layer_1 = tf.keras.layers.Convolution2D(\n",
    "            kernel_size = [5, 5],\n",
    "            filters     = 64,\n",
    "            padding     = \"same\",\n",
    "            use_bias    = True,\n",
    "            kernel_regularizer = tf.contrib.layers.l2_regularizer,\n",
    "            activation  = activation,\n",
    "        )\n",
    "        \n",
    "        self.unpool_1 = tf.keras.layers.UpSampling2D(\n",
    "            size          = 2,\n",
    "            interpolation = \"nearest\",\n",
    "        )\n",
    "        \n",
    "        # After that unpooling the shape is [14, 14] with 64 filters\n",
    "        self.batch_norm_2 = tf.keras.layers.BatchNormalization()\n",
    "\n",
    "\n",
    "        self.generator_layer_2 = tf.keras.layers.Convolution2D(\n",
    "            kernel_size = [5, 5],\n",
    "            filters     = 32,\n",
    "            padding     = \"same\",\n",
    "            use_bias    = True,\n",
    "            kernel_regularizer = tf.contrib.layers.l2_regularizer,\n",
    "            activation  = activation,\n",
    "        )\n",
    "        \n",
    "        self.unpool_2 = tf.keras.layers.UpSampling2D(\n",
    "            size          = 2,\n",
    "            interpolation = \"nearest\",\n",
    "        )\n",
    "\n",
    "        self.batch_norm_3 = tf.keras.layers.BatchNormalization()\n",
    "\n",
    "\n",
    "        self.generator_layer_3 = tf.keras.layers.Convolution2D(\n",
    "            kernel_size = [5, 5],\n",
    "            filters     = 8,\n",
    "            padding     = \"same\",\n",
    "            use_bias    = True,\n",
    "            kernel_regularizer = tf.contrib.layers.l2_regularizer,\n",
    "            activation  = activation,\n",
    "        )\n",
    "        \n",
    "        # Now it is [28, 28] by 24 filters, use a bottle neck to \n",
    "        # compress to a single image:\n",
    "        self.batch_norm_4 = tf.keras.layers.BatchNormalization()\n",
    "\n",
    "\n",
    "        self.generator_layer_final = tf.keras.layers.Convolution2D(\n",
    "            kernel_size = [5, 5],\n",
    "            filters     = 1,\n",
    "            padding     = \"same\",\n",
    "            use_bias    = True,\n",
    "            kernel_regularizer = tf.contrib.layers.l2_regularizer,\n",
    "            activation  = tf.nn.sigmoid,\n",
    "        )\n",
    "        \n",
    "\n",
    "        \n",
    "    def call(self, inputs):\n",
    "        ''' \n",
    "        Reshape at input and output: \n",
    "        '''\n",
    "            \n",
    "        \n",
    "        batch_size = inputs.shape[0]\n",
    "\n",
    "\n",
    "        x = self.dense(inputs)\n",
    "\n",
    "\n",
    "        # First Step is to to un-pool the encoded state into the right shape:\n",
    "        x = tf.reshape(x, [batch_size, 7, 7, 64])\n",
    "\n",
    "        x = self.batch_norm_1(x)\n",
    "        x = self.generator_layer_1(x)\n",
    "        x = self.unpool_1(x)\n",
    "        x = self.batch_norm_2(x)\n",
    "        x = self.generator_layer_2(x)\n",
    "        x = self.unpool_2(x)\n",
    "        x = self.batch_norm_3(x)\n",
    "        x = self.generator_layer_3(x)\n",
    "        x = self.batch_norm_4(x)\n",
    "        x = self.generator_layer_final(x)\n",
    "        \n",
    "        \n",
    "        return x"
   ]
  },
  {
   "cell_type": "markdown",
   "metadata": {
    "colab_type": "text",
    "id": "IUv7EecWqdQr"
   },
   "source": [
    "Ok, let's run our networks forward and backwards to see the network parameters:"
   ]
  },
  {
   "cell_type": "code",
   "execution_count": 4,
   "metadata": {
    "colab": {},
    "colab_type": "code",
    "id": "WBM3Kozirij5"
   },
   "outputs": [
    {
     "name": "stdout",
     "output_type": "stream",
     "text": [
      "\n",
      "WARNING: The TensorFlow contrib module will not be included in TensorFlow 2.0.\n",
      "For more information, please see:\n",
      "  * https://github.com/tensorflow/community/blob/master/rfcs/20180907-contrib-sunset.md\n",
      "  * https://github.com/tensorflow/addons\n",
      "If you depend on functionality not listed there, please file an issue.\n",
      "\n"
     ]
    }
   ],
   "source": [
    "generator = Generator()\n"
   ]
  },
  {
   "cell_type": "code",
   "execution_count": 5,
   "metadata": {
    "colab": {
     "base_uri": "https://localhost:8080/",
     "height": 585
    },
    "colab_type": "code",
    "id": "DPeNKCL1rEJ5",
    "outputId": "79eb8b67-9f10-407c-bbc3-99dc79acb487"
   },
   "outputs": [
    {
     "name": "stdout",
     "output_type": "stream",
     "text": [
      "WARNING:tensorflow:From /Users/corey.adams/Library/Python/3.6/lib/python/site-packages/tensorflow/python/ops/resource_variable_ops.py:642: colocate_with (from tensorflow.python.framework.ops) is deprecated and will be removed in a future version.\n",
      "Instructions for updating:\n",
      "Colocations handled automatically by placer.\n",
      "_________________________________________________________________\n",
      "Layer (type)                 Output Shape              Param #   \n",
      "=================================================================\n",
      "dense (Dense)                multiple                  316736    \n",
      "_________________________________________________________________\n",
      "batch_normalization_v1 (Batc multiple                  256       \n",
      "_________________________________________________________________\n",
      "conv2d (Conv2D)              multiple                  102464    \n",
      "_________________________________________________________________\n",
      "up_sampling2d (UpSampling2D) multiple                  0         \n",
      "_________________________________________________________________\n",
      "batch_normalization_v1_1 (Ba multiple                  256       \n",
      "_________________________________________________________________\n",
      "conv2d_1 (Conv2D)            multiple                  51232     \n",
      "_________________________________________________________________\n",
      "up_sampling2d_1 (UpSampling2 multiple                  0         \n",
      "_________________________________________________________________\n",
      "batch_normalization_v1_2 (Ba multiple                  128       \n",
      "_________________________________________________________________\n",
      "conv2d_2 (Conv2D)            multiple                  6408      \n",
      "_________________________________________________________________\n",
      "batch_normalization_v1_3 (Ba multiple                  32        \n",
      "_________________________________________________________________\n",
      "conv2d_3 (Conv2D)            multiple                  201       \n",
      "=================================================================\n",
      "Total params: 477,713\n",
      "Trainable params: 477,377\n",
      "Non-trainable params: 336\n",
      "_________________________________________________________________\n"
     ]
    }
   ],
   "source": [
    "random_input = numpy.random.uniform(-1,1,[1,100]).astype(numpy.float32)\n",
    "generated_image = generator(random_input)\n",
    "generator.summary()\n"
   ]
  },
  {
   "cell_type": "code",
   "execution_count": 6,
   "metadata": {
    "colab": {
     "base_uri": "https://localhost:8080/",
     "height": 76
    },
    "colab_type": "code",
    "id": "_MDF8pUwrrZ2",
    "outputId": "f1e1f230-b6b3-4c16-f33b-bcae5b44471f"
   },
   "outputs": [
    {
     "name": "stdout",
     "output_type": "stream",
     "text": [
      "(1, 28, 28, 1)\n"
     ]
    }
   ],
   "source": [
    "print(generated_image.shape)"
   ]
  },
  {
   "cell_type": "code",
   "execution_count": null,
   "metadata": {
    "colab": {},
    "colab_type": "code",
    "id": "3q9HqD4zs4W8"
   },
   "outputs": [],
   "source": []
  },
  {
   "cell_type": "code",
   "execution_count": 7,
   "metadata": {
    "colab": {
     "base_uri": "https://localhost:8080/",
     "height": 552
    },
    "colab_type": "code",
    "id": "fD_MtP-krtuV",
    "outputId": "ae734999-a237-4f85-a4ab-66afca9ffb13"
   },
   "outputs": [
    {
     "name": "stdout",
     "output_type": "stream",
     "text": [
      "_________________________________________________________________\n",
      "Layer (type)                 Output Shape              Param #   \n",
      "=================================================================\n",
      "conv2d_4 (Conv2D)            multiple                  624       \n",
      "_________________________________________________________________\n",
      "dropout (Dropout)            multiple                  0         \n",
      "_________________________________________________________________\n",
      "max_pooling2d (MaxPooling2D) multiple                  0         \n",
      "_________________________________________________________________\n",
      "conv2d_5 (Conv2D)            multiple                  38464     \n",
      "_________________________________________________________________\n",
      "dropout_1 (Dropout)          multiple                  0         \n",
      "_________________________________________________________________\n",
      "max_pooling2d_1 (MaxPooling2 multiple                  0         \n",
      "_________________________________________________________________\n",
      "conv2d_6 (Conv2D)            multiple                  204928    \n",
      "_________________________________________________________________\n",
      "dropout_2 (Dropout)          multiple                  0         \n",
      "_________________________________________________________________\n",
      "max_pooling2d_2 (MaxPooling2 multiple                  0         \n",
      "_________________________________________________________________\n",
      "dense_1 (Dense)              multiple                  1153      \n",
      "=================================================================\n",
      "Total params: 245,169\n",
      "Trainable params: 245,169\n",
      "Non-trainable params: 0\n",
      "_________________________________________________________________\n"
     ]
    }
   ],
   "source": [
    "discriminator = Discriminator()\n",
    "classification  = discriminator(generated_image)\n",
    "discriminator.summary()"
   ]
  },
  {
   "cell_type": "markdown",
   "metadata": {
    "colab_type": "text",
    "id": "UWr1UpTssHDa"
   },
   "source": [
    "Let's again take a look at the output images before training:"
   ]
  },
  {
   "cell_type": "code",
   "execution_count": 8,
   "metadata": {
    "colab": {
     "base_uri": "https://localhost:8080/",
     "height": 324
    },
    "colab_type": "code",
    "id": "XeoFg6mktIyZ",
    "outputId": "1e71a19a-c104-4b29-f1fe-33b43825c731"
   },
   "outputs": [
    {
     "name": "stdout",
     "output_type": "stream",
     "text": [
      "0.37240532\n",
      "0.6461501\n"
     ]
    },
    {
     "data": {
      "image/png": "[encoded data removed]",
      "text/plain": [
       "<Figure size 432x288 with 1 Axes>"
      ]
     },
     "metadata": {
      "needs_background": "light"
     },
     "output_type": "display_data"
    }
   ],
   "source": [
    "plt.imshow(generated_image.numpy().reshape([28,28]))\n",
    "print(numpy.min(generated_image.numpy()))\n",
    "print(numpy.max(generated_image.numpy()))"
   ]
  },
  {
   "cell_type": "markdown",
   "metadata": {
    "colab_type": "text",
    "id": "k1JN-UH9uQCo"
   },
   "source": [
    "Just random noise!"
   ]
  },
  {
   "cell_type": "markdown",
   "metadata": {
    "colab_type": "text",
    "id": "1_5FT5e5uUHC"
   },
   "source": [
    "## Helper functions for training\n",
    "\n",
    "Training a GAN takes some care in bookkeeping since you are training two models simultaneously.  So let's lay out some functions to keep things neat and organized.\n",
    "\n",
    "**Throughout, we're using 0 to  mean fake and 1 to mean real**\n"
   ]
  },
  {
   "cell_type": "code",
   "execution_count": 9,
   "metadata": {
    "colab": {},
    "colab_type": "code",
    "id": "UB5YYJuW3kS_"
   },
   "outputs": [],
   "source": [
    "# Read in the mnist data so we have it loaded globally:\n",
    "(x_train, y_train), (x_test, y_test) = tf.keras.datasets.mnist.load_data()\n",
    "x_train = x_train.astype(numpy.float32)\n",
    "x_test  = x_test.astype(numpy.float32)\n",
    "\n",
    "x_train /= 255.\n",
    "x_test  /= 255."
   ]
  },
  {
   "cell_type": "code",
   "execution_count": 10,
   "metadata": {
    "colab": {
     "base_uri": "https://localhost:8080/",
     "height": 92
    },
    "colab_type": "code",
    "id": "RBb2jjufuqHA",
    "outputId": "2bc51bc4-5a85-4348-e2b1-84f72d2cf112"
   },
   "outputs": [
    {
     "name": "stdout",
     "output_type": "stream",
     "text": [
      "0.0\n",
      "1.0\n"
     ]
    }
   ],
   "source": [
    "print(numpy.min(x_train))\n",
    "print(numpy.max(x_train))"
   ]
  },
  {
   "cell_type": "markdown",
   "metadata": {
    "colab_type": "text",
    "id": "eIs8RAwWx55X"
   },
   "source": []
  },
  {
   "cell_type": "code",
   "execution_count": 11,
   "metadata": {
    "colab": {},
    "colab_type": "code",
    "id": "Bf7_4MeOx4uY"
   },
   "outputs": [],
   "source": [
    "def compute_loss(_logits, _targets):\n",
    "    loss = tf.nn.sigmoid_cross_entropy_with_logits(labels=_targets, logits=_logits)\n",
    "    \n",
    "    return tf.reduce_mean(loss)\n"
   ]
  },
  {
   "cell_type": "code",
   "execution_count": null,
   "metadata": {
    "colab": {},
    "colab_type": "code",
    "id": "yYQS3w9Ty2aD"
   },
   "outputs": [],
   "source": []
  },
  {
   "cell_type": "code",
   "execution_count": 12,
   "metadata": {
    "colab": {},
    "colab_type": "code",
    "id": "H40kQ5fOzMIM"
   },
   "outputs": [],
   "source": [
    "def fetch_real_batch(_batch_size):\n",
    "    indexes = numpy.random.choice(a=x_train.shape[0], size=[_batch_size,])\n",
    "    \n",
    "    images = x_train[indexes].reshape(_batch_size, 28, 28, 1)\n",
    "    labels = y_train[indexes]\n",
    "    \n",
    "    return images, labels\n",
    "\n"
   ]
  },
  {
   "cell_type": "code",
   "execution_count": 19,
   "metadata": {
    "colab": {},
    "colab_type": "code",
    "id": "Ab5dn8-xyytd"
   },
   "outputs": [],
   "source": [
    "def forward_pass(_generator, _discriminator, _batch_size, _input_size):\n",
    "        '''\n",
    "        This function takes the two models and runs a forward pass to the computation of the loss functions\n",
    "        '''\n",
    "\n",
    "        # Fetch real data:\n",
    "        real_data, _ = fetch_real_batch(_batch_size)\n",
    "        \n",
    "        \n",
    "        \n",
    "        # Use the generator to make fake images:\n",
    "        random_noise = numpy.random.uniform(-1, 1, size=_batch_size*_input_size).astype(numpy.float32)\n",
    "        random_noise = random_noise.reshape([_batch_size, _input_size])\n",
    "        fake_images  = _generator(random_noise)\n",
    "        \n",
    "\n",
    "        # Use the discriminator to make a prediction on the REAL data:\n",
    "        prediction_on_real_data = _discriminator(real_data)\n",
    "        # Use the discriminator to make a prediction on the FAKE data:\n",
    "        prediction_on_fake_data = _discriminator(fake_images)\n",
    "        \n",
    "\n",
    "        soften = 0.1\n",
    "        real_labels = numpy.zeros([_batch_size,1], dtype=numpy.float32) + soften\n",
    "        fake_labels = numpy.ones([_batch_size,1],  dtype=numpy.float32) - soften\n",
    "        gen_labels  = numpy.zeros([_batch_size,1], dtype=numpy.float32)\n",
    "\n",
    "\n",
    "        # Occasionally, we disrupt the discriminator (since it has an easier job)\n",
    "        \n",
    "        # Invert a few of the discriminator labels:\n",
    "        \n",
    "        n_swap = int(_batch_size * 0.1)\n",
    "        \n",
    "        real_labels [0:n_swap] = 1.\n",
    "        fake_labels [0:n_swap] = 0.\n",
    "        \n",
    "        \n",
    "        # Compute the loss for the discriminator on the real images:\n",
    "        discriminator_real_loss = compute_loss(\n",
    "            _logits  = prediction_on_real_data, \n",
    "            _targets = real_labels)\n",
    "        \n",
    "        # Compute the loss for the discriminator on the fakse images:\n",
    "        discriminator_fake_loss = compute_loss(\n",
    "            _logits  = prediction_on_fake_data, \n",
    "            _targets = fake_labels)\n",
    "\n",
    "        # The generator loss is based on the output of the discriminator.\n",
    "        # It wants the discriminator to pick the fake data as real\n",
    "        generator_target_labels = [1] * _batch_size\n",
    "        \n",
    "        generator_loss = compute_loss(\n",
    "            _logits  = prediction_on_fake_data, \n",
    "            _targets = real_labels)\n",
    "        \n",
    "        # Average the discriminator loss:\n",
    "        discriminator_loss = 0.5*(discriminator_fake_loss  + discriminator_real_loss)\n",
    "        \n",
    "        # Calculate the predicted label (real or fake) to calculate the accuracy:\n",
    "        predicted_real_label = numpy.argmax(prediction_on_real_data.numpy(), axis=-1)\n",
    "        predicted_fake_label = numpy.argmax(prediction_on_fake_data.numpy(), axis=-1)\n",
    "\n",
    "        discriminator_accuracy = 0.5 * numpy.mean(predicted_real_label == real_labels) + \\\n",
    "            0.5 * numpy.mean(predicted_fake_label == fake_labels)\n",
    "        generator_accuracy = 0.5 * numpy.mean(predicted_fake_label == generator_target_labels)\n",
    "          \n",
    "        \n",
    "        metrics = {\n",
    "            \"discriminator\" : discriminator_accuracy,\n",
    "            \"generator\"    : generator_accuracy\n",
    "        }\n",
    "\n",
    "        loss = {\n",
    "            \"discriminator\" : discriminator_loss,\n",
    "            \"generator\"    : generator_loss        \n",
    "        }\n",
    "        \n",
    "        images = {\n",
    "            \"real\" : real_data[0].reshape([28,28]),\n",
    "            \"fake\" : fake_images.numpy()[0].reshape([28,28]) \n",
    "        }\n",
    "\n",
    "        \n",
    "        return loss, metrics, images"
   ]
  },
  {
   "cell_type": "markdown",
   "metadata": {
    "colab_type": "text",
    "id": "GMSPImtrNDse"
   },
   "source": [
    "## Training Loop"
   ]
  },
  {
   "cell_type": "code",
   "execution_count": 20,
   "metadata": {
    "colab": {},
    "colab_type": "code",
    "id": "qf8ntaDpyZBS"
   },
   "outputs": [],
   "source": [
    "# Here is a function that will manage the training loop for us:\n",
    "\n",
    "def train_loop(batch_size, n_training_iterations, models, opts):\n",
    "\n",
    "\n",
    "\n",
    "    # Create a plot that updates:\n",
    "    fig = plt.figure(figsize=(16, 9))\n",
    "    ax_loss = fig.add_subplot(131)\n",
    "    ax_real = fig.add_subplot(132)\n",
    "    ax_fake = fig.add_subplot(133)\n",
    "\n",
    "    steps = []\n",
    "    loss_history = {\n",
    "        \"generator\" : [],\n",
    "        \"discriminator\" : []\n",
    "    }\n",
    "\n",
    "\n",
    "\n",
    "\n",
    "\n",
    "    for i in range(n_training_iterations):\n",
    "\n",
    "        for network in [\"generator\", \"discriminator\"]:\n",
    "\n",
    "            with tf.GradientTape() as tape:\n",
    "                    loss, metrics, images = forward_pass(\n",
    "                        models[\"generator\"],\n",
    "                        models[\"discriminator\"], \n",
    "                        _input_size = 100,\n",
    "                        _batch_size = BATCH_SIZE,\n",
    "                    )\n",
    "\n",
    "\n",
    "            if loss[\"discriminator\"] < 0.01:\n",
    "                break\n",
    "\n",
    "            gs = tf.train.get_or_create_global_step()\n",
    "\n",
    "            steps.append(i)\n",
    "            loss_history[\"generator\"].append(loss[\"generator\"].numpy())\n",
    "            loss_history[\"discriminator\"].append(loss[\"discriminator\"].numpy())\n",
    "\n",
    "\n",
    "            trainable_vars = models[network].trainable_variables\n",
    "\n",
    "            # Apply the update to the network:\n",
    "            grads = tape.gradient(loss[network], trainable_vars)\n",
    "\n",
    "            opts[network].apply_gradients(zip(grads, trainable_vars),\n",
    "                global_step=tf.train.get_or_create_global_step())\n",
    "\n",
    "\n",
    "        if i % 25 == 0:\n",
    "            # Update plots:\n",
    "            ax_loss.cla()\n",
    "            ax_loss.plot(steps, loss_history[\"generator\"], label=\"Generator Loss\")\n",
    "            ax_loss.plot(steps, loss_history[\"discriminator\"], label=\"Discriminator Loss\")\n",
    "            ax_loss.grid(True)\n",
    "            ax_loss.legend()\n",
    "            ax_real.imshow(images['real'],vmin=0, vmax=1)\n",
    "            ax_real.set_title(\"Real\", fontsize=20)\n",
    "            ax_fake.imshow(images['fake'],vmin=0, vmax=1)\n",
    "            ax_fake.set_title(\"Fake\", fontsize=20)\n",
    "            display(fig)\n",
    "            clear_output(wait = True)\n",
    "            plt.pause(0.25)\n",
    "\n",
    "\n"
   ]
  },
  {
   "cell_type": "code",
   "execution_count": 21,
   "metadata": {
    "colab": {
     "base_uri": "https://localhost:8080/",
     "height": 581
    },
    "colab_type": "code",
    "id": "xwBy0ny9gU7H",
    "outputId": "49e17c75-a2f3-4046-de7f-5506b1063341"
   },
   "outputs": [
    {
     "data": {
      "image/png": "[encoded data removed]",
      "text/plain": [
       "<Figure size 1152x648 with 3 Axes>"
      ]
     },
     "metadata": {},
     "output_type": "display_data"
    }
   ],
   "source": [
    "BATCH_SIZE=64\n",
    "N_TRAINING_ITERATIONS = 2000\n",
    "\n",
    "\n",
    "models = {\n",
    "    \"generator\" : generator,\n",
    "    \"discriminator\" : discriminator  \n",
    "}\n",
    "\n",
    "opts = {\n",
    "    \"generator\" : tf.train.AdamOptimizer(0.001),\n",
    "    \"discriminator\" : tf.train.RMSPropOptimizer(0.0001)\n",
    "\n",
    "\n",
    "}\n",
    "\n",
    "train_loop(BATCH_SIZE, N_TRAINING_ITERATIONS, models, opts)"
   ]
  },
  {
   "cell_type": "code",
   "execution_count": 22,
   "metadata": {
    "colab": {
     "base_uri": "https://localhost:8080/",
     "height": 581
    },
    "colab_type": "code",
    "id": "LurM38Jg214e",
    "outputId": "d6a257a9-915e-49d9-8389-31b6171e8ab6"
   },
   "outputs": [
    {
     "data": {
      "image/png": "[encoded data removed]",
      "text/plain": [
       "<Figure size 1152x648 with 3 Axes>"
      ]
     },
     "metadata": {},
     "output_type": "display_data"
    }
   ],
   "source": [
    "# This runs more iterations: \n",
    "train_loop(BATCH_SIZE, N_TRAINING_ITERATIONS, models, opts)"
   ]
  },
  {
   "cell_type": "code",
   "execution_count": 23,
   "metadata": {
    "colab": {
     "base_uri": "https://localhost:8080/",
     "height": 581
    },
    "colab_type": "code",
    "id": "JPtDJ6tN44j4",
    "outputId": "40fee304-b7fb-4164-ff00-b9798bcdea1e"
   },
   "outputs": [
    {
     "data": {
      "image/png": "[encoded data removed]",
      "text/plain": [
       "<Figure size 1152x648 with 3 Axes>"
      ]
     },
     "metadata": {},
     "output_type": "display_data"
    }
   ],
   "source": [
    "# Run even more (iterations 4000 to 6000):\n",
    "train_loop(BATCH_SIZE, N_TRAINING_ITERATIONS, models, opts)"
   ]
  },
  {
   "cell_type": "code",
   "execution_count": null,
   "metadata": {
    "colab": {
     "base_uri": "https://localhost:8080/",
     "height": 581
    },
    "colab_type": "code",
    "id": "tXwFQOzy7H2r",
    "outputId": "873db2c8-a573-483f-c5df-cb32079412aa"
   },
   "outputs": [],
   "source": [
    "# Run even more (iterations 6000 to 8000):\n",
    "train_loop(BATCH_SIZE, N_TRAINING_ITERATIONS, models, opts)"
   ]
  },
  {
   "cell_type": "markdown",
   "metadata": {
    "colab_type": "text",
    "id": "aKU0BnerWZBt"
   },
   "source": [
    "Getting a GAN to train successfully, even on MNIST, is no small challenge.   The previous cells will train a network for 2000 steps initally, and more as you choose to run it, and hopefully it eventually converges for you.  But there are a number of minor changes that will cause training to completely collapse:\n",
    " - Try using a different activation function (like relu, leaky_relu, sigmoid) - does it train?\n",
    " - Try not confusing the discriminator with label swapping.  Can it train?\n",
    " - Try turning off the label smoothing - still training?"
   ]
  },
  {
   "cell_type": "markdown",
   "metadata": {
    "colab_type": "text",
    "id": "_l9jPNrS22Pe"
   },
   "source": []
  },
  {
   "cell_type": "markdown",
   "metadata": {
    "colab_type": "text",
    "id": "x9U6g2Z83tep"
   },
   "source": [
    "Running the training for a GAN is a pretty long processed, even for mnist.  So there are included here pretrained weights you can use, for the remainder of this notebook, if your model didn't train well."
   ]
  },
  {
   "cell_type": "code",
   "execution_count": 24,
   "metadata": {
    "colab": {},
    "colab_type": "code",
    "id": "qUx-5M0n33_7"
   },
   "outputs": [],
   "source": [
    "generator.save_weights(\"generator_weights.h5\")"
   ]
  },
  {
   "cell_type": "code",
   "execution_count": 2,
   "metadata": {
    "colab": {},
    "colab_type": "code",
    "id": "wt2aoWIg-LWC"
   },
   "outputs": [],
   "source": [
    "# # If you want to load the pretrained GANs, us this:\n",
    "# generator.load_weights(\"saved_models/generator_weights.h5\")\n",
    "# discriminator.load_weights(\"saved_models/discriminator_weights.h5\")"
   ]
  },
  {
   "cell_type": "code",
   "execution_count": 25,
   "metadata": {
    "colab": {},
    "colab_type": "code",
    "id": "H_mNSSAS7DVn"
   },
   "outputs": [],
   "source": [
    "discriminator.save_weights(\"discriminator_weights.h5\")"
   ]
  },
  {
   "cell_type": "markdown",
   "metadata": {
    "colab_type": "text",
    "id": "IVEpPlZM7Gou"
   },
   "source": [
    "# Exploring the abilities of the GAN network"
   ]
  },
  {
   "cell_type": "markdown",
   "metadata": {
    "colab_type": "text",
    "id": "XVdpEskt-QIZ"
   },
   "source": [
    "At this point, the GAN is reasonably trained.  We ran for 6000 iterations, which is only a handful of epochs, but the output digits are looking somewhat reasonable.  Let's explore how the GAN is working."
   ]
  },
  {
   "cell_type": "code",
   "execution_count": 27,
   "metadata": {
    "colab": {
     "base_uri": "https://localhost:8080/",
     "height": 288
    },
    "colab_type": "code",
    "id": "wVraKOXu-bDl",
    "outputId": "d2f7cf9a-e3da-4eb4-e90a-e2460fc8ab5c"
   },
   "outputs": [
    {
     "data": {
      "text/plain": [
       "<matplotlib.image.AxesImage at 0x13b0c1438>"
      ]
     },
     "execution_count": 27,
     "metadata": {},
     "output_type": "execute_result"
    },
    {
     "data": {
      "image/png": "[encoded data removed]",
      "text/plain": [
       "<Figure size 432x288 with 1 Axes>"
      ]
     },
     "metadata": {
      "needs_background": "light"
     },
     "output_type": "display_data"
    }
   ],
   "source": [
    "# What happens when all 0s go in?\n",
    "zeros = numpy.zeros([1,100]).astype(numpy.float32)\n",
    "zero_input_image = generator(zeros)\n",
    "plt.imshow(zero_input_image.numpy().reshape(28,28))"
   ]
  },
  {
   "cell_type": "code",
   "execution_count": 28,
   "metadata": {
    "colab": {
     "base_uri": "https://localhost:8080/",
     "height": 288
    },
    "colab_type": "code",
    "id": "uWEroli5-kbR",
    "outputId": "1a714728-b945-4340-d4e8-5094ddc79b3a"
   },
   "outputs": [
    {
     "data": {
      "text/plain": [
       "<matplotlib.image.AxesImage at 0x1417135c0>"
      ]
     },
     "execution_count": 28,
     "metadata": {},
     "output_type": "execute_result"
    },
    {
     "data": {
      "image/png": "[encoded data removed]",
      "text/plain": [
       "<Figure size 432x288 with 1 Axes>"
      ]
     },
     "metadata": {
      "needs_background": "light"
     },
     "output_type": "display_data"
    }
   ],
   "source": [
    "# What happens when all 1's go in?\n",
    "zeros = numpy.ones([1,100]).astype(numpy.float32)\n",
    "zero_input_image = generator(zeros)\n",
    "plt.imshow(zero_input_image.numpy().reshape(28,28))"
   ]
  },
  {
   "cell_type": "code",
   "execution_count": 29,
   "metadata": {
    "colab": {
     "base_uri": "https://localhost:8080/",
     "height": 288
    },
    "colab_type": "code",
    "id": "3TmFZxHp-qze",
    "outputId": "dd9055e6-e2db-46e1-c6c3-b44c9d76cf38"
   },
   "outputs": [
    {
     "data": {
      "text/plain": [
       "<matplotlib.image.AxesImage at 0x140b06dd8>"
      ]
     },
     "execution_count": 29,
     "metadata": {},
     "output_type": "execute_result"
    },
    {
     "data": {
      "image/png": "[encoded data removed]",
      "text/plain": [
       "<Figure size 432x288 with 1 Axes>"
      ]
     },
     "metadata": {
      "needs_background": "light"
     },
     "output_type": "display_data"
    }
   ],
   "source": [
    "# What happens when all -1's go in?\n",
    "zeros = -numpy.ones([1,100]).astype(numpy.float32)\n",
    "zero_input_image = generator(zeros)\n",
    "plt.imshow(zero_input_image.numpy().reshape(28,28))"
   ]
  },
  {
   "cell_type": "markdown",
   "metadata": {
    "colab_type": "text",
    "id": "UH4-LJ30-uRk"
   },
   "source": [
    "In the images above, all 0s gave an 8, 1 gave a 1, -1 gave nonsense.  What about out-of-range values?  We trained with a uniform distribution from -1 to 1, but if you go outside of that?"
   ]
  },
  {
   "cell_type": "code",
   "execution_count": 30,
   "metadata": {
    "colab": {
     "base_uri": "https://localhost:8080/",
     "height": 288
    },
    "colab_type": "code",
    "id": "I811xil9-7SN",
    "outputId": "3d80fb89-5665-4b85-e976-8004a6905e0e"
   },
   "outputs": [
    {
     "data": {
      "text/plain": [
       "<matplotlib.image.AxesImage at 0x140be4470>"
      ]
     },
     "execution_count": 30,
     "metadata": {},
     "output_type": "execute_result"
    },
    {
     "data": {
      "image/png": "[encoded data removed]",
      "text/plain": [
       "<Figure size 432x288 with 1 Axes>"
      ]
     },
     "metadata": {
      "needs_background": "light"
     },
     "output_type": "display_data"
    }
   ],
   "source": [
    "# What happens when all 2's go in?\n",
    "zeros = 2*numpy.ones([1,100]).astype(numpy.float32)\n",
    "zero_input_image = generator(zeros)\n",
    "plt.imshow(zero_input_image.numpy().reshape(28,28))"
   ]
  },
  {
   "cell_type": "code",
   "execution_count": 31,
   "metadata": {
    "colab": {
     "base_uri": "https://localhost:8080/",
     "height": 288
    },
    "colab_type": "code",
    "id": "7g7AAIMm-9G7",
    "outputId": "ecc6150c-28fc-4ce0-a95a-add29227e130"
   },
   "outputs": [
    {
     "data": {
      "text/plain": [
       "<matplotlib.image.AxesImage at 0x1410daa90>"
      ]
     },
     "execution_count": 31,
     "metadata": {},
     "output_type": "execute_result"
    },
    {
     "data": {
      "image/png": "[encoded data removed]",
      "text/plain": [
       "<Figure size 432x288 with 1 Axes>"
      ]
     },
     "metadata": {
      "needs_background": "light"
     },
     "output_type": "display_data"
    }
   ],
   "source": [
    "# What happens when all 10's go in?\n",
    "zeros = 10*numpy.ones([1,100]).astype(numpy.float32)\n",
    "zero_input_image = generator(zeros)\n",
    "plt.imshow(zero_input_image.numpy().reshape(28,28))"
   ]
  },
  {
   "cell_type": "code",
   "execution_count": 32,
   "metadata": {
    "colab": {
     "base_uri": "https://localhost:8080/",
     "height": 288
    },
    "colab_type": "code",
    "id": "TirLCRbO--6l",
    "outputId": "df252336-98e0-4a3b-cfaf-fd478541c5a7"
   },
   "outputs": [
    {
     "data": {
      "text/plain": [
       "<matplotlib.image.AxesImage at 0x141136198>"
      ]
     },
     "execution_count": 32,
     "metadata": {},
     "output_type": "execute_result"
    },
    {
     "data": {
      "image/png": "[encoded data removed]",
      "text/plain": [
       "<Figure size 432x288 with 1 Axes>"
      ]
     },
     "metadata": {
      "needs_background": "light"
     },
     "output_type": "display_data"
    }
   ],
   "source": [
    "# What happens when all -10's go in?\n",
    "zeros = -10*numpy.ones([1,100]).astype(numpy.float32)\n",
    "zero_input_image = generator(zeros)\n",
    "plt.imshow(zero_input_image.numpy().reshape(28,28))"
   ]
  },
  {
   "cell_type": "markdown",
   "metadata": {
    "colab_type": "text",
    "id": "lZPeWTqk_BG8"
   },
   "source": [
    "Let's vary the input more smoothly between two points.  We'll draw them randomly:"
   ]
  },
  {
   "cell_type": "code",
   "execution_count": 34,
   "metadata": {
    "colab": {},
    "colab_type": "code",
    "id": "1FV2inic_LP2"
   },
   "outputs": [],
   "source": [
    "initial_point = numpy.random.uniform(-1,1,[1,100]).astype(numpy.float32)\n",
    "final_point   = numpy.random.uniform(-1,1,[1,100]).astype(numpy.float32)\n",
    "\n",
    "N_STEPS = 10\n",
    "\n",
    "output_image = numpy.zeros([28, (N_STEPS+1)*28])\n",
    "\n",
    "\n",
    "for i in range(N_STEPS + 1):\n",
    "    step = 1 - (N_STEPS - i )/ N_STEPS\n",
    "    input_point = initial_point + step * (final_point - initial_point) \n",
    "    this_image = generator(input_point).numpy().reshape(28,28)\n",
    "    output_image[:, i*28:(i+1)*28] = this_image\n",
    "  "
   ]
  },
  {
   "cell_type": "code",
   "execution_count": 36,
   "metadata": {
    "colab": {
     "base_uri": "https://localhost:8080/",
     "height": 100
    },
    "colab_type": "code",
    "id": "ZjgU714X_x5c",
    "outputId": "1bdd6f50-eafc-402e-b573-91d4273bf1ed"
   },
   "outputs": [
    {
     "data": {
      "text/plain": [
       "<matplotlib.image.AxesImage at 0x141319a20>"
      ]
     },
     "execution_count": 36,
     "metadata": {},
     "output_type": "execute_result"
    },
    {
     "data": {
      "image/png": "[encoded data removed]",
      "text/plain": [
       "<Figure size 1152x288 with 1 Axes>"
      ]
     },
     "metadata": {
      "needs_background": "light"
     },
     "output_type": "display_data"
    }
   ],
   "source": [
    "fig = plt.figure(figsize=(16,4))\n",
    "plt.imshow(output_image)"
   ]
  },
  {
   "cell_type": "markdown",
   "metadata": {
    "colab_type": "text",
    "id": "vVYcXIBhAp7J"
   },
   "source": [
    "Try running this more, or using your own ideas for input, to see how the generator is smoothly transforming one digit into another."
   ]
  },
  {
   "cell_type": "markdown",
   "metadata": {
    "colab_type": "text",
    "id": "Bct9A69fHCJl"
   },
   "source": [
    "# Follow up Investigations for GANs\n",
    "\n",
    "GANs are tricky to train and can fall into all sorts of pitfalls.  The one show here works but at the same time, it's easy to make minor tweaks and see that it no longer trains.\n",
    "\n",
    "Do you want to learn more about GANs?  Here are some things you could explore doing with the basis from this notebook:\n",
    "\n",
    "1) Try changing some of the parameters of the network:\n",
    " - Input Size and distribution\n",
    " - Activation function\n",
    " - Dropout rates\n",
    " - What else can you change?\n",
    " \n",
    "2) Try changing how it is being trained:\n",
    " - Train both generator and discriminator simultaneously\n",
    " - Try different optimizers and learning rates\n",
    " - Instead of doing label swaps, try adding random noise to the real and fake images to make the classification harder.  \n",
    " - Can you turn down the label swapping as training progresses?\n",
    " \n",
    "3) Can you do more complicated GANs?  What about a network that turns every 7 into 1 one and vice-versa?  You will need a discriminator to train the generator, but also a classifier to train the generator.  How do you balance the loss?\n",
    " \n",
    "4) You could work on more datasets as well.  There is fashion MNIST, CIFAR, or explore a science domain dataset.\n",
    " "
   ]
  },
  {
   "cell_type": "code",
   "execution_count": null,
   "metadata": {
    "colab": {},
    "colab_type": "code",
    "id": "umAvPt0VNMkU"
   },
   "outputs": [],
   "source": []
  }
 ],
 "metadata": {
  "accelerator": "GPU",
  "colab": {
   "collapsed_sections": [
    "DHt5yPukpGkH",
    "sYKDyASEpF9z",
    "1_5FT5e5uUHC",
    "GMSPImtrNDse"
   ],
   "name": "GANs",
   "provenance": [],
   "toc_visible": true,
   "version": "0.3.2"
  },
  "kernelspec": {
   "display_name": "Python 3",
   "language": "python",
   "name": "python3"
  },
  "language_info": {
   "codemirror_mode": {
    "name": "ipython",
    "version": 3
   },
   "file_extension": ".py",
   "mimetype": "text/x-python",
   "name": "python",
   "nbconvert_exporter": "python",
   "pygments_lexer": "ipython3",
   "version": "3.6.9"
  }
 },
 "nbformat": 4,
 "nbformat_minor": 1
}
