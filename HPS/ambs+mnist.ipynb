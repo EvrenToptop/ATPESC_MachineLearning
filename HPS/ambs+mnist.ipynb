{
  "nbformat": 4,
  "nbformat_minor": 0,
  "metadata": {
    "colab": {
      "name": "ambs+mnist.ipynb",
      "version": "0.3.2",
      "provenance": [],
      "collapsed_sections": [],
      "machine_shape": "hm"
    },
    "kernelspec": {
      "name": "python3",
      "display_name": "Python 3"
    }
  },
  "cells": [
    {
      "cell_type": "code",
      "metadata": {
        "id": "vq7XyolAFXh5",
        "colab_type": "code",
        "colab": {
          "base_uri": "https://localhost:8080/",
          "height": 34
        },
        "outputId": "8cc056aa-cbf8-419f-b072-4730f4216aa6"
      },
      "source": [
        "# Using tf.keras for building an MNIST-MLP model\n",
        "import tensorflow as tf\n",
        "from tensorflow import keras as keras\n",
        "from tensorflow.keras.datasets import mnist\n",
        "from tensorflow.keras.models import Sequential\n",
        "from tensorflow.keras.layers import Dense, Dropout\n",
        "from tensorflow.keras.optimizers import SGD\n",
        "\n",
        "# Using sckit-optimize for Bayesian optimization\n",
        "!pip install scikit-optimize\n",
        "import skopt\n",
        "\n",
        "\n",
        "# Disabling stdout & using sys.stderr for printing\n",
        "# This will throw away some keras messages and keep things tidy \n",
        "# when we run lots of models inside a loop\n",
        "import sys\n",
        "f = open('/dev/null', 'w')\n",
        "sys.stdout = f\n",
        "def eprint(*args, **kwargs):\n",
        "  kwargs.pop('file', None)\n",
        "  print(*args, file=sys.stderr, **kwargs)\n",
        "  \n",
        "  \n",
        "# Load data once only\n",
        "if not hasattr(sys.modules[__name__], 'LOADED_DATA'):\n",
        "  eprint(\"Loading data...\")\n",
        "  (x_train, y_train), (x_test, y_test) = mnist.load_data()\n",
        "  num_classes = 10\n",
        "  x_train = x_train.reshape(60000, 784)\n",
        "  x_test = x_test.reshape(10000, 784)\n",
        "  x_train = x_train.astype('float32')\n",
        "  x_test = x_test.astype('float32')\n",
        "  x_train /= 255\n",
        "  x_test /= 255\n",
        "  y_train = keras.utils.to_categorical(y_train, num_classes)\n",
        "  y_test = keras.utils.to_categorical(y_test, num_classes)\n",
        "  LOADED_DATA = True\n",
        "  eprint(\"Done\")\n",
        "else:\n",
        "  eprint(\"Data already loaded\")"
      ],
      "execution_count": 2,
      "outputs": [
        {
          "output_type": "stream",
          "text": [
            "Data already loaded\n"
          ],
          "name": "stderr"
        }
      ]
    },
    {
      "cell_type": "markdown",
      "metadata": {
        "id": "6873RMngxUvQ",
        "colab_type": "text"
      },
      "source": [
        "# Bayesian Optimization for tuning ML Models\n",
        "\n",
        "Below we define a function to build, train, and evaluate a Multi-layer perceptron (MLP) for the MNIST digit classification task.  The function takes several optional keyword arguments that control aspects of the training process and the model itself.  We refer to these values as **Hyperparameters**.\n",
        "\n",
        "The default keyword arguments below construct a relatively small MLP, with just two hidden layers and 16 units per layer. The model is only trained for one epoch (or a single pass over the training data). \n"
      ]
    },
    {
      "cell_type": "code",
      "metadata": {
        "id": "vqdNcp6AGx24",
        "colab_type": "code",
        "colab": {}
      },
      "source": [
        "def run_model(\n",
        "   batch_size=128, \n",
        "   epochs=1, \n",
        "   nunits1=16,\n",
        "   nunits2=16,\n",
        "   dropout=0.1,\n",
        "   activation='relu', \n",
        "   lr=0.01,\n",
        "   momentum=0.0, \n",
        "  ):\n",
        "  \"\"\"\n",
        "  Train MLP with 1 hidden layer on MNIST digit classification.\n",
        "  Returns the minimization objective, which is (-1.0 * test_accuracy)\n",
        "  \"\"\"\n",
        "  global x_train, x_test, y_train, y_test, num_classes\n",
        "  model = Sequential()\n",
        "  model.add(Dense(nunits1, activation=activation, input_shape=(784,)))\n",
        "  model.add(Dropout(dropout))\n",
        "  model.add(Dense(nunits2, activation=activation))\n",
        "  model.add(Dropout(dropout))\n",
        "  model.add(Dense(num_classes, activation='softmax'))\n",
        "\n",
        "  model.compile(loss='categorical_crossentropy',\n",
        "              optimizer=SGD(lr=lr, clipnorm=1., momentum=momentum),\n",
        "              metrics=['accuracy'])\n",
        "\n",
        "  history = model.fit(x_train, y_train,\n",
        "                    batch_size=batch_size,\n",
        "                    epochs=epochs,\n",
        "                    verbose=0,\n",
        "                    validation_data=(x_test, y_test))\n",
        "  score = model.evaluate(x_test, y_test, verbose=0)\n",
        "  return -1.0*score[1] # minimize -1.0*test_accuracy"
      ],
      "execution_count": 0,
      "outputs": []
    },
    {
      "cell_type": "code",
      "metadata": {
        "id": "gH67ESpSJPQy",
        "colab_type": "code",
        "colab": {
          "base_uri": "https://localhost:8080/",
          "height": 34
        },
        "outputId": "384fcd0b-d91a-4b2a-b39d-abe0b92752a3"
      },
      "source": [
        "objective = run_model()\n",
        "eprint(f'Test Accuracy: {-1.0 * objective}')"
      ],
      "execution_count": 90,
      "outputs": [
        {
          "output_type": "stream",
          "text": [
            "Test Accuracy: 0.6406000256538391\n"
          ],
          "name": "stderr"
        }
      ]
    },
    {
      "cell_type": "markdown",
      "metadata": {
        "id": "XGFjycCAyaNg",
        "colab_type": "text"
      },
      "source": [
        "## This model is pretty weak...\n",
        "\n",
        "Clearly, we don't get a very competitive accuracy given the default parameters above. \n",
        "\n",
        "We want this demo to go fast, so let's keep the model small (16 units per hidden layer) and training very short (1 epoch).   Given those constraints, we can search for an optimal batch size and learning rate to improve the accuracy of our \"budget\" model.\n"
      ]
    },
    {
      "cell_type": "markdown",
      "metadata": {
        "id": "gV8s2rKGO7Rv",
        "colab_type": "text"
      },
      "source": [
        "s# Tuning Hyperparameters with Scikit-Optimizeitio\n",
        "\n",
        "Let's focus on batch size and learning rate, while keeping other parameters fixed at their defaults.\n",
        "\n",
        "We define the search space in Scikit optimize as a two-item list: one item for each search dimension.  Here, we construct an instance of skopt.Optimizer according to the tutorial at https://scikit-optimize.github.io/notebooks/ask-and-tell.html\n",
        "\n",
        "After drawing `n_initial_points` at random, the search uses the ExtraTreesRegressor as a surrogate model of the model test accuracy.  This model is explicitly refit after each MNIST-MLP model evaluation in the loop below, on calls to `optimizer.tell()`."
      ]
    },
    {
      "cell_type": "code",
      "metadata": {
        "id": "XT0qJ_-_PAx_",
        "colab_type": "code",
        "colab": {}
      },
      "source": [
        "problem_dimensions = [\n",
        "    (6, 9),     # log2 (batch_size)\n",
        "    (-3.0, 0.0), # log10 (learning rate)\n",
        "]\n",
        "def to_dict(x):\n",
        "  return dict(batch_size=2**x[0], lr=10.0**x[1])\n",
        "\n",
        "optimizer = skopt.Optimizer(\n",
        "    problem_dimensions,\n",
        "    \"ET\",\n",
        "    acq_optimizer=\"sampling\",\n",
        "    n_initial_points=6,\n",
        ")"
      ],
      "execution_count": 0,
      "outputs": []
    },
    {
      "cell_type": "code",
      "metadata": {
        "id": "2-0srdGcQY3h",
        "colab_type": "code",
        "colab": {
          "base_uri": "https://localhost:8080/",
          "height": 1000
        },
        "outputId": "b57b1d88-4dbe-40a5-ac09-22aaef6865a5"
      },
      "source": [
        "eprint(\"Running Search\")\n",
        "N = 20\n",
        "for i in range(N):\n",
        "  next_x = optimizer.ask()\n",
        "  eprint(f\"[{i+1}/{N}]\", to_dict(next_x))\n",
        "  objective = run_model(**to_dict(next_x))\n",
        "  optimizer.tell(next_x, objective)\n",
        "  eprint(f\"Accuracy: {-1.*objective}\\n\")"
      ],
      "execution_count": 95,
      "outputs": [
        {
          "output_type": "stream",
          "text": [
            "Running Search\n",
            "[1/20] {'batch_size': 512, 'lr': 0.047511912158974566}\n",
            "Accuracy: 0.7523999810218811\n",
            "\n",
            "[2/20] {'batch_size': 256, 'lr': 0.009148879248701166}\n",
            "Accuracy: 0.5924999713897705\n",
            "\n",
            "[3/20] {'batch_size': 256, 'lr': 0.00113692219824057}\n",
            "Accuracy: 0.21480000019073486\n",
            "\n",
            "[4/20] {'batch_size': 256, 'lr': 0.0033343101661505283}\n",
            "Accuracy: 0.1671999990940094\n",
            "\n",
            "[5/20] {'batch_size': 256, 'lr': 0.010440698504632494}\n",
            "Accuracy: 0.43970000743865967\n",
            "\n",
            "[6/20] {'batch_size': 256, 'lr': 0.16706410838260416}\n",
            "Accuracy: 0.8888999819755554\n",
            "\n",
            "[7/20] {'batch_size': 256, 'lr': 0.002182792874242347}\n",
            "Accuracy: 0.2824000120162964\n",
            "\n",
            "[8/20] {'batch_size': 64, 'lr': 0.9291942203512946}\n",
            "Accuracy: 0.8628000020980835\n",
            "\n",
            "[9/20] {'batch_size': 64, 'lr': 0.10534239800691589}\n",
            "Accuracy: 0.9038000106811523\n",
            "\n",
            "[10/20] {'batch_size': 512, 'lr': 0.6420586880554402}\n",
            "Accuracy: 0.869700014591217\n",
            "\n",
            "[11/20] {'batch_size': 256, 'lr': 0.6889421897357594}\n",
            "Accuracy: 0.8937000036239624\n",
            "\n",
            "[12/20] {'batch_size': 128, 'lr': 0.6578672636795541}\n",
            "Accuracy: 0.9070000052452087\n",
            "\n",
            "[13/20] {'batch_size': 64, 'lr': 0.3558386771484149}\n",
            "Accuracy: 0.9122999906539917\n",
            "\n",
            "[14/20] {'batch_size': 64, 'lr': 0.3810216086223234}\n",
            "Accuracy: 0.9214000105857849\n",
            "\n",
            "[15/20] {'batch_size': 64, 'lr': 0.05958286276133357}\n",
            "Accuracy: 0.8978000283241272\n",
            "\n",
            "[16/20] {'batch_size': 128, 'lr': 0.12460215296562699}\n",
            "Accuracy: 0.8981000185012817\n",
            "\n",
            "[17/20] {'batch_size': 64, 'lr': 0.02661740177589464}\n",
            "Accuracy: 0.8641999959945679\n",
            "\n",
            "[18/20] {'batch_size': 64, 'lr': 0.046330589110415835}\n",
            "Accuracy: 0.890999972820282\n",
            "\n",
            "[19/20] {'batch_size': 64, 'lr': 0.41206175056710065}\n",
            "Accuracy: 0.9196000099182129\n",
            "\n",
            "[20/20] {'batch_size': 64, 'lr': 0.013321606881791907}\n",
            "Accuracy: 0.8360999822616577\n",
            "\n"
          ],
          "name": "stderr"
        }
      ]
    },
    {
      "cell_type": "markdown",
      "metadata": {
        "id": "E4FCyaO-6Ssk",
        "colab_type": "text"
      },
      "source": [
        "# Visualizing Search Results\n",
        "\n",
        "Let's take a look at the distribution of hyperparameters and model test accuracy as the hyperparameter search progressed.  The first scatterplot shows log2(batch_size) on the x-axis and log10(learning_rate) on the y-axis.  The points are color-coded from light-cyan to dark-blue in order of increasing iteration count.  Notice how the search quickly converges on the minimum batch size of 64  and larger learning rates in the range of 0.01 to 0.5."
      ]
    },
    {
      "cell_type": "code",
      "metadata": {
        "id": "1tK_ZvylQduG",
        "colab_type": "code",
        "colab": {}
      },
      "source": [
        "%matplotlib inline\n",
        "from matplotlib import pyplot as plt\n",
        "import seaborn as sns\n",
        "\n",
        "def params_from_opt(optimizer):\n",
        "  ndims = len(optimizer.Xi[0])\n",
        "  return [ [x[i] for x in optimizer.Xi] for i in range(ndims) ]"
      ],
      "execution_count": 0,
      "outputs": []
    },
    {
      "cell_type": "code",
      "metadata": {
        "id": "c9hANXfPQf3s",
        "colab_type": "code",
        "colab": {
          "base_uri": "https://localhost:8080/",
          "height": 441
        },
        "outputId": "e4e277cf-0924-4cb5-9103-d647c269fb33"
      },
      "source": [
        "batch_sizes, learning_rates = params_from_opt(optimizer)\n",
        "g = sns.jointplot(x=batch_sizes, y=learning_rates)\n",
        "g.ax_joint.cla()\n",
        "N = len(batch_sizes)\n",
        "for i in range(N):\n",
        "  g.ax_joint.scatter(batch_sizes[i], learning_rates[i], s=100+50*i, c=[(0.0, 0.99-i/N, 0.7, 0.6)])"
      ],
      "execution_count": 103,
      "outputs": [
        {
          "output_type": "display_data",
          "data": {
            "image/png": "[encoded data removed]",
            "text/plain": [
              "<Figure size 432x432 with 3 Axes>"
            ]
          },
          "metadata": {
            "tags": []
          }
        }
      ]
    },
    {
      "cell_type": "markdown",
      "metadata": {
        "id": "JIa6vsJu8tTm",
        "colab_type": "text"
      },
      "source": [
        "## Model test accuracy\n",
        "\n",
        "After running 6 random sets of hyperparamters, we draw points from the model.  Notice the behavior:\n",
        "  - points 1 through 6 are drawn at random and have highly erratic accuracies ranging from under 20% to 90%\n",
        "  - point 7 is the first sample drawn from the acquisition function; here, we also sample a relatively poor configuration as the algorithm is still \"exploring\" the hyperparameter space\n",
        "  - Points 8 through 20 (corresponding to the dark blue points in scatterplot above) have consistently higher accuracy than the points initially drawn at random"
      ]
    },
    {
      "cell_type": "code",
      "metadata": {
        "id": "5ZFRoW6-Q3dq",
        "colab_type": "code",
        "colab": {
          "base_uri": "https://localhost:8080/",
          "height": 300
        },
        "outputId": "33bfb2ca-8d9d-4ca6-eaec-bfe67066c855"
      },
      "source": [
        "plt.plot(range(N), [-1.0*y for y in optimizer.yi], '-o')\n",
        "plt.axvspan(0, 6, alpha=0.3, color='red')\n",
        "plt.axvspan(7, 20, alpha=0.3, color='green')\n",
        "plt.xlabel('Iteration')\n",
        "plt.ylabel('Test Accuracy')"
      ],
      "execution_count": 119,
      "outputs": [
        {
          "output_type": "execute_result",
          "data": {
            "text/plain": [
              "Text(0, 0.5, 'Test Accuracy')"
            ]
          },
          "metadata": {
            "tags": []
          },
          "execution_count": 119
        },
        {
          "output_type": "display_data",
          "data": {
            "image/png": "[encoded data removed]",
            "text/plain": [
              "<Figure size 432x288 with 1 Axes>"
            ]
          },
          "metadata": {
            "tags": []
          }
        }
      ]
    },
    {
      "cell_type": "code",
      "metadata": {
        "id": "JoTTO1K_uqb4",
        "colab_type": "code",
        "colab": {}
      },
      "source": [
        ""
      ],
      "execution_count": 0,
      "outputs": []
    }
  ]
}